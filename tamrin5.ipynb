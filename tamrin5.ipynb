{
 "cells": [
  {
   "cell_type": "code",
   "execution_count": 3,
   "metadata": {
    "collapsed": true
   },
   "outputs": [],
   "source": [
    "import pandas as pd\n",
    "from threading import Thread\n",
    "import collections\n",
    "import matplotlib.pyplot as plt"
   ]
  },
  {
   "cell_type": "code",
   "execution_count": 4,
   "outputs": [],
   "source": [
    "dataFrame = pd.read_csv(\"./tamrin 5.csv\")"
   ],
   "metadata": {
    "collapsed": false,
    "pycharm": {
     "name": "#%%\n"
    }
   }
  },
  {
   "cell_type": "code",
   "execution_count": 5,
   "outputs": [
    {
     "data": {
      "text/plain": "                                            Abstract  \\\n0  Internet of things (IoT) has brought a greater...   \n1                                                NaN   \n2                           United States; Rodríguez   \n3  Green bonds are powerful tools for fighting ag...   \n4  Background: Artificial intelligence-based dise...   \n\n                                     Author Keywords  \n0  Covid-19; ensemble deep learning; framingham f...  \n1                                                NaN  \n2                                                 A.  \n3  Gradient boosting decision tree; Green bonds; ...  \n4  artificial intelligence; COVID-19; disease pre...  ",
      "text/html": "<div>\n<style scoped>\n    .dataframe tbody tr th:only-of-type {\n        vertical-align: middle;\n    }\n\n    .dataframe tbody tr th {\n        vertical-align: top;\n    }\n\n    .dataframe thead th {\n        text-align: right;\n    }\n</style>\n<table border=\"1\" class=\"dataframe\">\n  <thead>\n    <tr style=\"text-align: right;\">\n      <th></th>\n      <th>Abstract</th>\n      <th>Author Keywords</th>\n    </tr>\n  </thead>\n  <tbody>\n    <tr>\n      <th>0</th>\n      <td>Internet of things (IoT) has brought a greater...</td>\n      <td>Covid-19; ensemble deep learning; framingham f...</td>\n    </tr>\n    <tr>\n      <th>1</th>\n      <td>NaN</td>\n      <td>NaN</td>\n    </tr>\n    <tr>\n      <th>2</th>\n      <td>United States; Rodríguez</td>\n      <td>A.</td>\n    </tr>\n    <tr>\n      <th>3</th>\n      <td>Green bonds are powerful tools for fighting ag...</td>\n      <td>Gradient boosting decision tree; Green bonds; ...</td>\n    </tr>\n    <tr>\n      <th>4</th>\n      <td>Background: Artificial intelligence-based dise...</td>\n      <td>artificial intelligence; COVID-19; disease pre...</td>\n    </tr>\n  </tbody>\n</table>\n</div>"
     },
     "execution_count": 5,
     "metadata": {},
     "output_type": "execute_result"
    }
   ],
   "source": [
    "dataFrame.head()"
   ],
   "metadata": {
    "collapsed": false,
    "pycharm": {
     "name": "#%%\n"
    }
   }
  },
  {
   "cell_type": "markdown",
   "source": [],
   "metadata": {
    "collapsed": false,
    "pycharm": {
     "name": "#%% md\n"
    }
   }
  },
  {
   "cell_type": "code",
   "execution_count": 6,
   "outputs": [],
   "source": [
    "def author_keywords():\n",
    "    author_keywords_counts = dict()\n",
    "    for key, part in enumerate(dataFrame[\"Author Keywords\"]):\n",
    "        try:\n",
    "            keywords = part.split(\";\")\n",
    "            for word in keywords:\n",
    "                word = word.lower()\n",
    "                if word[0] == \" \":\n",
    "                    word = word[1:]\n",
    "                if word in author_keywords_counts:\n",
    "                    author_keywords_counts[word] += 1\n",
    "                else:\n",
    "                    author_keywords_counts[word] = 1\n",
    "        except:\n",
    "            continue\n",
    "    return dict(sorted(author_keywords_counts.items(), key=lambda kv: kv[1], reverse=True))\n",
    "\n"
   ],
   "metadata": {
    "collapsed": false,
    "pycharm": {
     "name": "#%%\n"
    }
   }
  },
  {
   "cell_type": "code",
   "execution_count": 7,
   "outputs": [
    {
     "data": {
      "text/plain": "{'covid-19': 75,\n 'deep learning': 34,\n 'machine learning': 29,\n 'ensemble learning': 21,\n 'transfer learning': 14,\n 'artificial intelligence': 11,\n 'convolutional neural network': 10,\n 'forecasting': 9,\n 'ensemble model': 8,\n 'prediction': 7,\n 'ensemble': 7,\n 'sentiment analysis': 6,\n 'twitter': 4,\n 'coronavirus': 4,\n 'arima': 4,\n 'ensemble deep learning': 3,\n 'support vector machine': 3,\n 'neural networks': 3,\n 'natural language processing': 3,\n 'social media': 3,\n 'covid-19 detection': 3,\n 'lstm': 3,\n 'pneumonia': 3,\n 'stacking': 3,\n 'x-ray images': 3,\n 'classification': 3,\n 'sars-cov-2': 3,\n 'decision support': 3,\n 'internet of things': 2,\n 'mortality': 2,\n 'health emergency': 2,\n 'roberta': 2,\n 'covid19': 2,\n 'convolutional neural networks': 2,\n 'demand forecasting': 2,\n 'facebook': 2,\n 'infodemiology': 2,\n 'public health': 2,\n 'healthcare': 2,\n 'air pollution': 2,\n 'random forest': 2,\n 'sustainability': 2,\n 'anomaly detection': 2,\n 'time-series': 2,\n 'diagnostic model': 2,\n 'naive bayes': 2,\n 'chest x-ray': 2,\n 'pandemic': 2,\n 'xgboost': 2,\n 'intrusion detection': 2,\n 'optimization': 2,\n 'covid-19 pandemic': 2,\n 'cnn': 2,\n 'health': 2,\n 'saudi arabia': 2,\n 'chest x-ray images': 2,\n 'convolution neural networks': 2,\n 'x-ray': 2,\n 'infection': 2,\n 'framingham feature extraction': 1,\n 'a.': 1,\n 'gradient boosting decision tree': 1,\n 'green bonds': 1,\n 'heterogeneous ensemble': 1,\n 'random forests': 1,\n 'volatility forecasting': 1,\n 'disease prediction': 1,\n 'explainable': 1,\n 'covid?19': 1,\n 'bert': 1,\n 'distilbert': 1,\n 'emergency response support system (erss)': 1,\n 'emotion detection': 1,\n 'ensemble method': 1,\n 'regression': 1,\n 'clahe': 1,\n 'feature scaling': 1,\n 'guassian naive bayes': 1,\n 'soft voting': 1,\n 'class activation mapping': 1,\n 'decision level fusion': 1,\n 'feature level fusion': 1,\n 'multistage learning': 1,\n 'support vector machines': 1,\n 'autoregressive': 1,\n 'biofuels': 1,\n 'co-integration': 1,\n 'demand-side management': 1,\n 'econometric': 1,\n 'forecast evaluation': 1,\n 'forecasting methods': 1,\n 'fuel demand': 1,\n 'fuzzy-logic model': 1,\n 'gasoline': 1,\n 'liquid fuels': 1,\n 'time series': 1,\n 'time series analysis': 1,\n 'health informatics': 1,\n 'vaccination': 1,\n 'big covid-19 data': 1,\n 'decision support system': 1,\n 'hho': 1,\n 'change analysis': 1,\n 'particulate matter': 1,\n 'self-organizing map': 1,\n 'accuracy': 1,\n 'data-aware computational unit': 1,\n 'latency of cnn': 1,\n 'performance': 1,\n 'pre-training': 1,\n 'ensemble forecast': 1,\n 'model evaluation': 1,\n 'data labelling': 1,\n 'prior knowledge': 1,\n 'sentiment classification': 1,\n 'stacked generalization': 1,\n 'topic models': 1,\n 'online education': 1,\n 'smote': 1,\n 'audio forensics': 1,\n 'automatic speaker verification': 1,\n 'cloth face masks': 1,\n 'face masks': 1,\n 'filtered n95': 1,\n 'surgical': 1,\n 'classification algorithm': 1,\n 'data mining': 1,\n 'prevalence and management': 1,\n 'retrospective analysis': 1,\n 'waterborne disease': 1,\n '?-sutte indicator': 1,\n 'blood tests': 1,\n 'small data': 1,\n 'covid-19 vaccination': 1,\n 'lexicon-based approaches': 1,\n 'forecasting of influenza-like illnesses': 1,\n 'monitoring and early warning': 1,\n 'public opinion analysis': 1,\n 'china': 1,\n 'ozone': 1,\n 'data fusion': 1,\n 'deep ensemble learning': 1,\n 'epidemic diseases outbreak': 1,\n 'models integration': 1,\n 'ensemble learning algorithm': 1,\n 'gated recurrent units': 1,\n 'human activity recognition': 1,\n 'a': 1,\n 'computed tomography (ct) images': 1,\n 'r 445': 1,\n 'tp 183': 1,\n 'adaptive activation function-based u-net': 1,\n 'autoencoder': 1,\n 'ensemble learning with cnn-based deep features': 1,\n 'self adaptive- tunicate swarm algorithm': 1,\n 'education': 1,\n 'endothelial dysfunction': 1,\n 'covid-19 lesion segmentation': 1,\n 'deep-supervised ensemble learning network': 1,\n 'local and global features': 1,\n 'under ct imaging': 1,\n 'apache spark': 1,\n 'covid-19 diagnosis': 1,\n 'real-time analytics': 1,\n 'lung disease': 1,\n 'multichannel': 1,\n 'tuberculosis': 1,\n 'coronavirus disease': 1,\n 'ensemble machine learning algorithms': 1,\n 'epidemic prediction': 1,\n 'future forecasting': 1,\n 'gradient boosting': 1,\n 'histogram-oriented gradients': 1,\n 'local binary patterns': 1,\n 'computed tomography': 1,\n 'meta-learning': 1,\n 'transfer learning models': 1,\n 'ct images': 1,\n 'densenet-201': 1,\n 'iomt': 1,\n 'mobilenetv2': 1,\n 'squeezenet': 1,\n 'sugeno fuzzy integral': 1,\n 'trainable ensemble': 1,\n 'ensemble methods': 1,\n 'spam classification': 1,\n 'text messages': 1,\n 'chest computed tomography and x-ray': 1,\n 'covid-19 disease': 1,\n 'ensemble classifier': 1,\n 'correlation feature selection (cfs)': 1,\n 'decision tree (dt)': 1,\n 'electronic health records (ehrs)': 1,\n 'linear model (lr)': 1,\n 'mdrl': 1,\n 'multi-layer perceptron (mlp)': 1,\n 'random forest (rf)': 1,\n 'coronavirus disease 2019 (covid-19)': 1,\n 'intensive care unit (icu)': 1,\n 'length of stay (los)': 1,\n 'machine learning (ml)': 1,\n 'predation': 1,\n 'resource management': 1,\n 'contextual embedding': 1,\n 'fake news': 1,\n 'social networks': 1,\n 'voting classifier': 1,\n 'covid-19 severity': 1,\n 'broad learning system (bls)': 1,\n 'decision trees': 1,\n 'ensemble learning.': 1,\n 'feature extraction': 1,\n 'learning systems': 1,\n 'training': 1,\n 'vehicular ad hoc networks': 1,\n 'epidemiology covid-19': 1,\n 'evolutionary algorithms': 1,\n 'pandemics': 1,\n 'policy making': 1,\n 'prediction algorithms': 1,\n 'predictive models': 1,\n 'uncertainty': 1,\n 'work-from-home': 1,\n 'decision tree ensembles': 1,\n 'probabilistic': 1,\n 'c reactive protein': 1,\n 'corticosteroid': 1,\n 'lymphocyte percent': 1,\n 'coronavirus detection': 1,\n 'weighted average ensemble': 1,\n 'geospatial artificial intelligence': 1,\n 'spatiotemporal machine learning': 1,\n 'code-switched language': 1,\n 'cyberbullying': 1,\n 'deep ensemble': 1,\n 'deep forest': 1,\n 'resnet101': 1,\n 'testing': 1,\n 'ensemble arima': 1,\n 'forest knowledge': 1,\n 'ensemble models': 1,\n 'metaheuristics': 1,\n 'facial recognition': 1,\n 'masked face': 1,\n 'covid-19 crisis': 1,\n 'dynamic factor model': 1,\n 'macroeconomic forecasting': 1,\n 'automated diagnosis': 1,\n 'class activation maps (cams) visualization': 1,\n 'covid-19 classification': 1,\n 'finetuning': 1,\n 'stacked ensembles': 1,\n 'dcnn': 1,\n 'ensemble network': 1,\n 'hate speech detection': 1,\n 'deep networks': 1,\n 'pneumonia detection': 1,\n 'antiviral drugs': 1,\n 'covid-19 drug repurposing': 1,\n 'hybrid method': 1,\n 'stepwise multiple regression': 1,\n 'time series prediction': 1,\n 'choquet integral': 1,\n 'coalition game': 1,\n 'information theory': 1,\n 'lambda fuzzy': 1,\n 'feature importance analysis': 1,\n 'multi-objective optimization': 1,\n 'random forest regression': 1,\n 'deep learning models': 1,\n 'matthews correlation coefficients': 1,\n 'simple averaging': 1,\n 'weighted averaging': 1,\n 'gompertz function': 1,\n 'ai diagnostics tool': 1,\n 'diagnostic radiography': 1,\n 'medical diagnosis': 1,\n 'x-rays': 1,\n 'critical illness': 1,\n 'immune-inflammatory parameters': 1,\n 'online model': 1,\n 'differential equations': 1,\n 'generalized logistic growth model': 1,\n 'gompertz model': 1,\n 'interval score': 1,\n 'model ensemble, parameter estimation, uncertainty quantification, phenomenological growth': 1,\n 'parametric bootstrapping': 1,\n 'richards model': 1,\n 'peptide': 1,\n 'peptide-tcr interaction': 1,\n 't cell receptor': 1,\n 'data prediction': 1,\n 'ensemble machine learning': 1,\n 'n-gram feature extraction': 1,\n 'twitter data': 1,\n 'algorithm hyperparameter': 1,\n 'chest computed tomography image': 1,\n 'deep learning ensemble': 1,\n 'genetic algorithm': 1,\n 'long short-term memory': 1,\n 'mobility prediction': 1,\n 'diagnosis': 1,\n 'maldi-ms': 1,\n 'metabolism': 1,\n 'biological sciences': 1,\n 'immunology': 1,\n 'lipidomics': 1,\n 'blstm': 1,\n 'grbfnn': 1,\n 'prediction interval': 1,\n 'sarima': 1,\n 'water demand prediction': 1,\n 'wavelet transform': 1,\n 'hybrid model': 1,\n 'nar': 1,\n 'edl-covid': 1,\n 'classifier': 1,\n 'supervised learning': 1,\n 'deep-learning': 1,\n 'drug-target interactions': 1,\n 'drugs': 1,\n 'proteins': 1,\n 'bertweet': 1,\n 'ct-bert': 1,\n 'informative tweets': 1,\n 'majority voting': 1,\n 'nested ensemble': 1,\n 'computational drug repurposing': 1,\n 'matrix completion': 1,\n 'virus-drug association prediction': 1,\n 'weighted voting ensemble model': 1,\n 'channel attention network': 1,\n 'crossentropy': 1,\n 'label distribution approximation': 1,\n 'light gradient boosting machine': 1,\n 'radiography': 1,\n 'ai': 1,\n 'app': 1,\n 'attitude': 1,\n 'contact tracing': 1,\n 'exploratory': 1,\n 'infoveillance': 1,\n 'perception': 1,\n 'sentiment': 1,\n 'suitability': 1,\n 'united kingdom': 1,\n 'hosts prediction': 1,\n 'virus origins': 1,\n 'chest ct': 1,\n 'dimension reduction': 1,\n 'x-ray imaging': 1,\n 'analysis': 1,\n 'decomposition and ensemble model': 1,\n 'model synergy': 1,\n 'risk prediction': 1,\n 'covid-19 cutaneous manifestations': 1,\n 'covid-19 skin lesions': 1,\n 'computer-aided diagnosis': 1,\n 'pneumonia disease': 1,\n 'pneumonia multiclass classification': 1,\n 'class imbalance': 1,\n 'computer-assisted radiographic image interpretation': 1,\n 'neural network ensemble': 1,\n 'biomedical databases': 1,\n 'biomedical knowledge': 1,\n 'internet': 1,\n 'automated machine learning': 1,\n 'biomarker': 1,\n 'decision support tool': 1,\n 'dimensionality reduction': 1,\n 'partial dependence plot': 1,\n 'ranking': 1,\n 'shapley additive explanation': 1,\n 'covid-19 epidemic': 1,\n 'ensemble learning classifiers': 1,\n 'individual-level model': 1,\n 'sars-cov-2 transmission': 1,\n 'spatiotemporal analysis': 1,\n 'auto regressive integrated moving average': 1,\n 'exponential smoothing': 1,\n 'multi-layer perceptron': 1,\n 'neural network': 1,\n 'hrct': 1,\n 'intel® movidius™': 1,\n 'neural compute stick': 1,\n 'pathology data': 1,\n 'raspberry pi': 1,\n 'stage classification covid-19': 1,\n 'bagging ridge': 1,\n 'bi-lstm': 1,\n 'exchange rate forecasting': 1,\n 'deep neural networks': 1,\n 'pneumonia detection using x-ray images': 1,\n 'interstitial pneumonia': 1,\n 'radiomics': 1,\n 'texture analysis': 1,\n 'thorax': 1,\n 'asset management': 1,\n 'pandemic preparedness': 1,\n 'predictive maintenance': 1,\n 'small and medium enterprises': 1,\n 'bootstrapping validation': 1,\n 'fatality': 1,\n 'k-fold cross-validation': 1,\n 'risk analysis': 1,\n 'ann': 1,\n 'ensemble learning method': 1,\n 'icu admission': 1,\n 'chest x-rays': 1,\n 'explainableai': 1,\n 'gans': 1,\n 'accountable artificial intelligence': 1,\n 'automated five time sit to stand test': 1,\n 'automated timed up and go test': 1,\n 'home-based rehabilitation': 1,\n 'hybrid ensemble learning': 1,\n 'patient-centric individualised rehabilitation': 1,\n 'responsible artificial intelligence': 1,\n 'transparent artificial intelligence': 1,\n 'lung ct images': 1,\n 'blood samples': 1,\n 'mortality prediction': 1,\n 'bayesian': 1,\n 'computation': 1,\n 'diagnostic': 1,\n 'imaging': 1,\n 'informatics': 1,\n 'model': 1,\n 'probability': 1,\n 'risk': 1,\n 'symptom': 1,\n 'classifier ensemble': 1,\n 'protein–protein interaction': 1,\n 'supervised classification': 1,\n 'gray level cooccurrence matrix (glcm)': 1,\n \"laws' masks\": 1,\n \"li s'method\": 1,\n 'particle swarm intelligence': 1,\n 'support vector machine (svm)': 1,\n 'weighted voting': 1,\n 'lockdown effect': 1,\n 'mathematical model': 1,\n 'outbreak containment policy': 1,\n 'artificial neural network': 1,\n 'decision-making': 1,\n 'routine blood tests': 1,\n 'misinformation': 1,\n 'iterative pruning': 1}"
     },
     "execution_count": 7,
     "metadata": {},
     "output_type": "execute_result"
    }
   ],
   "source": [
    "# sorted_words = sorted(author_keywords().items(), key=lambda kv: kv[1], reverse=True)\n",
    "# print(dict(sorted_words))\n",
    "author_keywords()"
   ],
   "metadata": {
    "collapsed": false,
    "pycharm": {
     "name": "#%%\n"
    }
   }
  },
  {
   "cell_type": "code",
   "source": [
    "keywordsDataFrame = pd.DataFrame(author_keywords().items(), columns=['keywords', 'count'])\n",
    "keywordsDataFrame.head()"
   ],
   "metadata": {
    "collapsed": false,
    "pycharm": {
     "name": "#%%\n"
    }
   },
   "execution_count": 8,
   "outputs": [
    {
     "data": {
      "text/plain": "            keywords  count\n0           covid-19     75\n1      deep learning     34\n2   machine learning     29\n3  ensemble learning     21\n4  transfer learning     14",
      "text/html": "<div>\n<style scoped>\n    .dataframe tbody tr th:only-of-type {\n        vertical-align: middle;\n    }\n\n    .dataframe tbody tr th {\n        vertical-align: top;\n    }\n\n    .dataframe thead th {\n        text-align: right;\n    }\n</style>\n<table border=\"1\" class=\"dataframe\">\n  <thead>\n    <tr style=\"text-align: right;\">\n      <th></th>\n      <th>keywords</th>\n      <th>count</th>\n    </tr>\n  </thead>\n  <tbody>\n    <tr>\n      <th>0</th>\n      <td>covid-19</td>\n      <td>75</td>\n    </tr>\n    <tr>\n      <th>1</th>\n      <td>deep learning</td>\n      <td>34</td>\n    </tr>\n    <tr>\n      <th>2</th>\n      <td>machine learning</td>\n      <td>29</td>\n    </tr>\n    <tr>\n      <th>3</th>\n      <td>ensemble learning</td>\n      <td>21</td>\n    </tr>\n    <tr>\n      <th>4</th>\n      <td>transfer learning</td>\n      <td>14</td>\n    </tr>\n  </tbody>\n</table>\n</div>"
     },
     "execution_count": 8,
     "metadata": {},
     "output_type": "execute_result"
    }
   ]
  },
  {
   "cell_type": "code",
   "execution_count": 9,
   "outputs": [
    {
     "data": {
      "text/plain": "                      keywords  count\n0                     covid-19     75\n1                deep learning     34\n2             machine learning     29\n3            ensemble learning     21\n4            transfer learning     14\n..                         ...    ...\n443  artificial neural network      1\n444            decision-making      1\n445        routine blood tests      1\n446             misinformation      1\n447          iterative pruning      1\n\n[448 rows x 2 columns]",
      "text/html": "<div>\n<style scoped>\n    .dataframe tbody tr th:only-of-type {\n        vertical-align: middle;\n    }\n\n    .dataframe tbody tr th {\n        vertical-align: top;\n    }\n\n    .dataframe thead th {\n        text-align: right;\n    }\n</style>\n<table border=\"1\" class=\"dataframe\">\n  <thead>\n    <tr style=\"text-align: right;\">\n      <th></th>\n      <th>keywords</th>\n      <th>count</th>\n    </tr>\n  </thead>\n  <tbody>\n    <tr>\n      <th>0</th>\n      <td>covid-19</td>\n      <td>75</td>\n    </tr>\n    <tr>\n      <th>1</th>\n      <td>deep learning</td>\n      <td>34</td>\n    </tr>\n    <tr>\n      <th>2</th>\n      <td>machine learning</td>\n      <td>29</td>\n    </tr>\n    <tr>\n      <th>3</th>\n      <td>ensemble learning</td>\n      <td>21</td>\n    </tr>\n    <tr>\n      <th>4</th>\n      <td>transfer learning</td>\n      <td>14</td>\n    </tr>\n    <tr>\n      <th>...</th>\n      <td>...</td>\n      <td>...</td>\n    </tr>\n    <tr>\n      <th>443</th>\n      <td>artificial neural network</td>\n      <td>1</td>\n    </tr>\n    <tr>\n      <th>444</th>\n      <td>decision-making</td>\n      <td>1</td>\n    </tr>\n    <tr>\n      <th>445</th>\n      <td>routine blood tests</td>\n      <td>1</td>\n    </tr>\n    <tr>\n      <th>446</th>\n      <td>misinformation</td>\n      <td>1</td>\n    </tr>\n    <tr>\n      <th>447</th>\n      <td>iterative pruning</td>\n      <td>1</td>\n    </tr>\n  </tbody>\n</table>\n<p>448 rows × 2 columns</p>\n</div>"
     },
     "execution_count": 9,
     "metadata": {},
     "output_type": "execute_result"
    }
   ],
   "source": [
    "keywordsDataFrame"
   ],
   "metadata": {
    "collapsed": false,
    "pycharm": {
     "name": "#%%\n"
    }
   }
  },
  {
   "cell_type": "code",
   "execution_count": null,
   "outputs": [],
   "source": [],
   "metadata": {
    "collapsed": false,
    "pycharm": {
     "name": "#%%\n"
    }
   }
  },
  {
   "cell_type": "code",
   "execution_count": 10,
   "outputs": [],
   "source": [
    "def words_in_keywords(reverse=True):\n",
    "    words_count = dict()\n",
    "    for index, row in keywordsDataFrame.iterrows():\n",
    "        try:\n",
    "            words = row[\"keywords\"].split()\n",
    "            for word in words:\n",
    "                if word in words_count:\n",
    "                    words_count[word] += 1\n",
    "                else:\n",
    "                    words_count[word] = row[\"count\"]\n",
    "        except:\n",
    "            continue\n",
    "    return dict(sorted(words_count.items(), key=lambda kv: kv[1], reverse=reverse))"
   ],
   "metadata": {
    "collapsed": false,
    "pycharm": {
     "name": "#%%\n"
    }
   }
  },
  {
   "cell_type": "code",
   "execution_count": 11,
   "outputs": [
    {
     "data": {
      "text/plain": "{'covid-19': 91,\n 'learning': 57,\n 'ensemble': 51,\n 'deep': 43,\n 'machine': 37,\n 'model': 25,\n 'prediction': 19,\n 'neural': 18,\n 'artificial': 16,\n 'intelligence': 16,\n 'network': 16,\n 'forecasting': 16,\n 'transfer': 15,\n 'analysis': 15,\n 'convolutional': 11,\n 'detection': 10,\n 'classification': 10,\n 'decision': 10,\n 'support': 9,\n 'networks': 9,\n 'x-ray': 9,\n 'sentiment': 8,\n 'pneumonia': 8,\n 'images': 8,\n 'data': 8,\n 'coronavirus': 7,\n 'chest': 7,\n 'feature': 7,\n 'disease': 7,\n 'and': 7,\n 'health': 6,\n 'forest': 6,\n 'models': 6,\n 'twitter': 5,\n 'arima': 5,\n 'vector': 5,\n 'of': 5,\n 'random': 5,\n 'voting': 5,\n 'algorithm': 5,\n 'diagnosis': 5,\n 'language': 4,\n 'social': 4,\n 'sars-cov-2': 4,\n 'demand': 4,\n 'diagnostic': 4,\n 'pandemic': 4,\n 'management': 4,\n 'time': 4,\n 'computed': 4,\n 'tomography': 4,\n 'ct': 4,\n 'classifier': 4,\n 'weighted': 4,\n 'automated': 4,\n 'natural': 3,\n 'processing': 3,\n 'media': 3,\n 'lstm': 3,\n 'stacking': 3,\n 'internet': 3,\n 'mortality': 3,\n 'emergency': 3,\n 'public': 3,\n 'naive': 3,\n 'bayes': 3,\n 'optimization': 3,\n 'cnn': 3,\n 'extraction': 3,\n 'gradient': 3,\n 'boosting': 3,\n 'tree': 3,\n 'system': 3,\n 'method': 3,\n 'regression': 3,\n 'class': 3,\n 'activation': 3,\n 'level': 3,\n 'fusion': 3,\n 'series': 3,\n 'knowledge': 3,\n 'face': 3,\n 'masks': 3,\n 'blood': 3,\n 'epidemic': 3,\n 'imaging': 3,\n 'algorithms': 3,\n 'hybrid': 3,\n 'risk': 3,\n 'things': 2,\n 'roberta': 2,\n 'covid19': 2,\n 'facebook': 2,\n 'infodemiology': 2,\n 'healthcare': 2,\n 'air': 2,\n 'pollution': 2,\n 'sustainability': 2,\n 'anomaly': 2,\n 'time-series': 2,\n 'xgboost': 2,\n 'intrusion': 2,\n 'saudi': 2,\n 'arabia': 2,\n 'convolution': 2,\n 'infection': 2,\n 'forecast': 2,\n 'evaluation': 2,\n 'methods': 2,\n 'informatics': 2,\n 'vaccination': 2,\n 'computational': 2,\n 'unit': 2,\n 'stacked': 2,\n 'online': 2,\n 'education': 2,\n 'tests': 2,\n 'small': 2,\n 'outbreak': 2,\n 'recognition': 2,\n 'features': 2,\n 'swarm': 2,\n 'local': 2,\n 'lung': 2,\n 'fuzzy': 2,\n 'integral': 2,\n 'correlation': 2,\n 'multi-layer': 2,\n 'perceptron': 2,\n 'policy': 2,\n 'predictive': 2,\n 'uncertainty': 2,\n 'ensembles': 2,\n 'average': 2,\n 'spatiotemporal': 2,\n 'drugs': 2,\n 'drug': 2,\n 'repurposing': 2,\n 'averaging': 2,\n 'gompertz': 2,\n 'ai': 2,\n 'tool': 2,\n 'radiography': 2,\n 'x-rays': 2,\n 'growth': 2,\n 'interval': 2,\n 'bootstrapping': 2,\n 'interaction': 2,\n 'image': 2,\n 'supervised': 2,\n 'matrix': 2,\n 'reduction': 2,\n 'biomedical': 2,\n 'test': 2,\n 'rehabilitation': 2,\n 'framingham': 1,\n 'a.': 1,\n 'green': 1,\n 'bonds': 1,\n 'heterogeneous': 1,\n 'forests': 1,\n 'volatility': 1,\n 'explainable': 1,\n 'covid?19': 1,\n 'bert': 1,\n 'distilbert': 1,\n 'response': 1,\n '(erss)': 1,\n 'emotion': 1,\n 'clahe': 1,\n 'scaling': 1,\n 'guassian': 1,\n 'soft': 1,\n 'mapping': 1,\n 'multistage': 1,\n 'machines': 1,\n 'autoregressive': 1,\n 'biofuels': 1,\n 'co-integration': 1,\n 'demand-side': 1,\n 'econometric': 1,\n 'fuel': 1,\n 'fuzzy-logic': 1,\n 'gasoline': 1,\n 'liquid': 1,\n 'fuels': 1,\n 'big': 1,\n 'hho': 1,\n 'change': 1,\n 'particulate': 1,\n 'matter': 1,\n 'self-organizing': 1,\n 'map': 1,\n 'accuracy': 1,\n 'data-aware': 1,\n 'latency': 1,\n 'performance': 1,\n 'pre-training': 1,\n 'labelling': 1,\n 'prior': 1,\n 'generalization': 1,\n 'topic': 1,\n 'smote': 1,\n 'audio': 1,\n 'forensics': 1,\n 'automatic': 1,\n 'speaker': 1,\n 'verification': 1,\n 'cloth': 1,\n 'filtered': 1,\n 'n95': 1,\n 'surgical': 1,\n 'mining': 1,\n 'prevalence': 1,\n 'retrospective': 1,\n 'waterborne': 1,\n '?-sutte': 1,\n 'indicator': 1,\n 'lexicon-based': 1,\n 'approaches': 1,\n 'influenza-like': 1,\n 'illnesses': 1,\n 'monitoring': 1,\n 'early': 1,\n 'warning': 1,\n 'opinion': 1,\n 'china': 1,\n 'ozone': 1,\n 'diseases': 1,\n 'integration': 1,\n 'gated': 1,\n 'recurrent': 1,\n 'units': 1,\n 'human': 1,\n 'activity': 1,\n 'a': 1,\n '(ct)': 1,\n 'r': 1,\n '445': 1,\n 'tp': 1,\n '183': 1,\n 'adaptive': 1,\n 'function-based': 1,\n 'u-net': 1,\n 'autoencoder': 1,\n 'with': 1,\n 'cnn-based': 1,\n 'self': 1,\n 'adaptive-': 1,\n 'tunicate': 1,\n 'endothelial': 1,\n 'dysfunction': 1,\n 'lesion': 1,\n 'segmentation': 1,\n 'deep-supervised': 1,\n 'global': 1,\n 'under': 1,\n 'apache': 1,\n 'spark': 1,\n 'real-time': 1,\n 'analytics': 1,\n 'multichannel': 1,\n 'tuberculosis': 1,\n 'future': 1,\n 'histogram-oriented': 1,\n 'gradients': 1,\n 'binary': 1,\n 'patterns': 1,\n 'meta-learning': 1,\n 'densenet-201': 1,\n 'iomt': 1,\n 'mobilenetv2': 1,\n 'squeezenet': 1,\n 'sugeno': 1,\n 'trainable': 1,\n 'spam': 1,\n 'text': 1,\n 'messages': 1,\n 'selection': 1,\n '(cfs)': 1,\n '(dt)': 1,\n 'electronic': 1,\n 'records': 1,\n '(ehrs)': 1,\n 'linear': 1,\n '(lr)': 1,\n 'mdrl': 1,\n '(mlp)': 1,\n '(rf)': 1,\n '2019': 1,\n '(covid-19)': 1,\n 'intensive': 1,\n 'care': 1,\n '(icu)': 1,\n 'length': 1,\n 'stay': 1,\n '(los)': 1,\n '(ml)': 1,\n 'predation': 1,\n 'resource': 1,\n 'contextual': 1,\n 'embedding': 1,\n 'fake': 1,\n 'news': 1,\n 'severity': 1,\n 'broad': 1,\n '(bls)': 1,\n 'trees': 1,\n 'learning.': 1,\n 'systems': 1,\n 'training': 1,\n 'vehicular': 1,\n 'ad': 1,\n 'hoc': 1,\n 'epidemiology': 1,\n 'evolutionary': 1,\n 'pandemics': 1,\n 'making': 1,\n 'work-from-home': 1,\n 'probabilistic': 1,\n 'c': 1,\n 'reactive': 1,\n 'protein': 1,\n 'corticosteroid': 1,\n 'lymphocyte': 1,\n 'percent': 1,\n 'geospatial': 1,\n 'code-switched': 1,\n 'cyberbullying': 1,\n 'resnet101': 1,\n 'testing': 1,\n 'metaheuristics': 1,\n 'facial': 1,\n 'masked': 1,\n 'crisis': 1,\n 'dynamic': 1,\n 'factor': 1,\n 'macroeconomic': 1,\n 'maps': 1,\n '(cams)': 1,\n 'visualization': 1,\n 'finetuning': 1,\n 'dcnn': 1,\n 'hate': 1,\n 'speech': 1,\n 'antiviral': 1,\n 'stepwise': 1,\n 'multiple': 1,\n 'choquet': 1,\n 'coalition': 1,\n 'game': 1,\n 'information': 1,\n 'theory': 1,\n 'lambda': 1,\n 'importance': 1,\n 'multi-objective': 1,\n 'matthews': 1,\n 'coefficients': 1,\n 'simple': 1,\n 'function': 1,\n 'diagnostics': 1,\n 'medical': 1,\n 'critical': 1,\n 'illness': 1,\n 'immune-inflammatory': 1,\n 'parameters': 1,\n 'differential': 1,\n 'equations': 1,\n 'generalized': 1,\n 'logistic': 1,\n 'score': 1,\n 'ensemble,': 1,\n 'parameter': 1,\n 'estimation,': 1,\n 'quantification,': 1,\n 'phenomenological': 1,\n 'parametric': 1,\n 'richards': 1,\n 'peptide': 1,\n 'peptide-tcr': 1,\n 't': 1,\n 'cell': 1,\n 'receptor': 1,\n 'n-gram': 1,\n 'hyperparameter': 1,\n 'genetic': 1,\n 'long': 1,\n 'short-term': 1,\n 'memory': 1,\n 'mobility': 1,\n 'maldi-ms': 1,\n 'metabolism': 1,\n 'biological': 1,\n 'sciences': 1,\n 'immunology': 1,\n 'lipidomics': 1,\n 'blstm': 1,\n 'grbfnn': 1,\n 'sarima': 1,\n 'water': 1,\n 'wavelet': 1,\n 'transform': 1,\n 'nar': 1,\n 'edl-covid': 1,\n 'deep-learning': 1,\n 'drug-target': 1,\n 'interactions': 1,\n 'proteins': 1,\n 'bertweet': 1,\n 'ct-bert': 1,\n 'informative': 1,\n 'tweets': 1,\n 'majority': 1,\n 'nested': 1,\n 'completion': 1,\n 'virus-drug': 1,\n 'association': 1,\n 'channel': 1,\n 'attention': 1,\n 'crossentropy': 1,\n 'label': 1,\n 'distribution': 1,\n 'approximation': 1,\n 'light': 1,\n 'app': 1,\n 'attitude': 1,\n 'contact': 1,\n 'tracing': 1,\n 'exploratory': 1,\n 'infoveillance': 1,\n 'perception': 1,\n 'suitability': 1,\n 'united': 1,\n 'kingdom': 1,\n 'hosts': 1,\n 'virus': 1,\n 'origins': 1,\n 'dimension': 1,\n 'decomposition': 1,\n 'synergy': 1,\n 'cutaneous': 1,\n 'manifestations': 1,\n 'skin': 1,\n 'lesions': 1,\n 'computer-aided': 1,\n 'multiclass': 1,\n 'imbalance': 1,\n 'computer-assisted': 1,\n 'radiographic': 1,\n 'interpretation': 1,\n 'databases': 1,\n 'biomarker': 1,\n 'dimensionality': 1,\n 'partial': 1,\n 'dependence': 1,\n 'plot': 1,\n 'ranking': 1,\n 'shapley': 1,\n 'additive': 1,\n 'explanation': 1,\n 'classifiers': 1,\n 'individual-level': 1,\n 'transmission': 1,\n 'auto': 1,\n 'regressive': 1,\n 'integrated': 1,\n 'moving': 1,\n 'exponential': 1,\n 'smoothing': 1,\n 'hrct': 1,\n 'intel®': 1,\n 'movidius™': 1,\n 'compute': 1,\n 'stick': 1,\n 'pathology': 1,\n 'raspberry': 1,\n 'pi': 1,\n 'stage': 1,\n 'bagging': 1,\n 'ridge': 1,\n 'bi-lstm': 1,\n 'exchange': 1,\n 'rate': 1,\n 'using': 1,\n 'interstitial': 1,\n 'radiomics': 1,\n 'texture': 1,\n 'thorax': 1,\n 'asset': 1,\n 'preparedness': 1,\n 'maintenance': 1,\n 'medium': 1,\n 'enterprises': 1,\n 'validation': 1,\n 'fatality': 1,\n 'k-fold': 1,\n 'cross-validation': 1,\n 'ann': 1,\n 'icu': 1,\n 'admission': 1,\n 'explainableai': 1,\n 'gans': 1,\n 'accountable': 1,\n 'five': 1,\n 'sit': 1,\n 'to': 1,\n 'stand': 1,\n 'timed': 1,\n 'up': 1,\n 'go': 1,\n 'home-based': 1,\n 'patient-centric': 1,\n 'individualised': 1,\n 'responsible': 1,\n 'transparent': 1,\n 'samples': 1,\n 'bayesian': 1,\n 'computation': 1,\n 'probability': 1,\n 'symptom': 1,\n 'protein–protein': 1,\n 'gray': 1,\n 'cooccurrence': 1,\n '(glcm)': 1,\n \"laws'\": 1,\n 'li': 1,\n \"s'method\": 1,\n 'particle': 1,\n '(svm)': 1,\n 'lockdown': 1,\n 'effect': 1,\n 'mathematical': 1,\n 'containment': 1,\n 'decision-making': 1,\n 'routine': 1,\n 'misinformation': 1,\n 'iterative': 1,\n 'pruning': 1}"
     },
     "execution_count": 11,
     "metadata": {},
     "output_type": "execute_result"
    }
   ],
   "source": [
    "words_in_keywords()"
   ],
   "metadata": {
    "collapsed": false,
    "pycharm": {
     "name": "#%%\n"
    }
   }
  },
  {
   "cell_type": "code",
   "execution_count": 12,
   "outputs": [
    {
     "data": {
      "text/plain": "      words  count\n0  covid-19     91\n1  learning     57\n2  ensemble     51\n3      deep     43\n4   machine     37",
      "text/html": "<div>\n<style scoped>\n    .dataframe tbody tr th:only-of-type {\n        vertical-align: middle;\n    }\n\n    .dataframe tbody tr th {\n        vertical-align: top;\n    }\n\n    .dataframe thead th {\n        text-align: right;\n    }\n</style>\n<table border=\"1\" class=\"dataframe\">\n  <thead>\n    <tr style=\"text-align: right;\">\n      <th></th>\n      <th>words</th>\n      <th>count</th>\n    </tr>\n  </thead>\n  <tbody>\n    <tr>\n      <th>0</th>\n      <td>covid-19</td>\n      <td>91</td>\n    </tr>\n    <tr>\n      <th>1</th>\n      <td>learning</td>\n      <td>57</td>\n    </tr>\n    <tr>\n      <th>2</th>\n      <td>ensemble</td>\n      <td>51</td>\n    </tr>\n    <tr>\n      <th>3</th>\n      <td>deep</td>\n      <td>43</td>\n    </tr>\n    <tr>\n      <th>4</th>\n      <td>machine</td>\n      <td>37</td>\n    </tr>\n  </tbody>\n</table>\n</div>"
     },
     "execution_count": 12,
     "metadata": {},
     "output_type": "execute_result"
    }
   ],
   "source": [
    "words_of_keywordsDataFrame = pd.DataFrame(words_in_keywords().items(), columns=['words', 'count'])\n",
    "words_of_keywordsDataFrame.head()"
   ],
   "metadata": {
    "collapsed": false,
    "pycharm": {
     "name": "#%%\n"
    }
   }
  },
  {
   "cell_type": "code",
   "execution_count": 13,
   "outputs": [
    {
     "data": {
      "text/plain": "               words  count\n0           covid-19     91\n1           learning     57\n2           ensemble     51\n3               deep     43\n4            machine     37\n..               ...    ...\n533  decision-making      1\n534          routine      1\n535   misinformation      1\n536        iterative      1\n537          pruning      1\n\n[538 rows x 2 columns]",
      "text/html": "<div>\n<style scoped>\n    .dataframe tbody tr th:only-of-type {\n        vertical-align: middle;\n    }\n\n    .dataframe tbody tr th {\n        vertical-align: top;\n    }\n\n    .dataframe thead th {\n        text-align: right;\n    }\n</style>\n<table border=\"1\" class=\"dataframe\">\n  <thead>\n    <tr style=\"text-align: right;\">\n      <th></th>\n      <th>words</th>\n      <th>count</th>\n    </tr>\n  </thead>\n  <tbody>\n    <tr>\n      <th>0</th>\n      <td>covid-19</td>\n      <td>91</td>\n    </tr>\n    <tr>\n      <th>1</th>\n      <td>learning</td>\n      <td>57</td>\n    </tr>\n    <tr>\n      <th>2</th>\n      <td>ensemble</td>\n      <td>51</td>\n    </tr>\n    <tr>\n      <th>3</th>\n      <td>deep</td>\n      <td>43</td>\n    </tr>\n    <tr>\n      <th>4</th>\n      <td>machine</td>\n      <td>37</td>\n    </tr>\n    <tr>\n      <th>...</th>\n      <td>...</td>\n      <td>...</td>\n    </tr>\n    <tr>\n      <th>533</th>\n      <td>decision-making</td>\n      <td>1</td>\n    </tr>\n    <tr>\n      <th>534</th>\n      <td>routine</td>\n      <td>1</td>\n    </tr>\n    <tr>\n      <th>535</th>\n      <td>misinformation</td>\n      <td>1</td>\n    </tr>\n    <tr>\n      <th>536</th>\n      <td>iterative</td>\n      <td>1</td>\n    </tr>\n    <tr>\n      <th>537</th>\n      <td>pruning</td>\n      <td>1</td>\n    </tr>\n  </tbody>\n</table>\n<p>538 rows × 2 columns</p>\n</div>"
     },
     "execution_count": 13,
     "metadata": {},
     "output_type": "execute_result"
    }
   ],
   "source": [
    "words_of_keywordsDataFrame"
   ],
   "metadata": {
    "collapsed": false,
    "pycharm": {
     "name": "#%%\n"
    }
   }
  },
  {
   "cell_type": "code",
   "execution_count": 14,
   "outputs": [
    {
     "data": {
      "text/plain": "<Figure size 1440x720 with 1 Axes>",
      "image/png": "[encoded data removed]"
     },
     "metadata": {
      "needs_background": "light"
     },
     "output_type": "display_data"
    }
   ],
   "source": [
    "f = plt.figure()\n",
    "f.set_figwidth(20)\n",
    "f.set_figheight(10)\n",
    "plt.scatter(words_of_keywordsDataFrame[\"words\"].head(10), words_of_keywordsDataFrame[\"count\"].head(10))\n",
    "plt.show()"
   ],
   "metadata": {
    "collapsed": false,
    "pycharm": {
     "name": "#%%\n"
    }
   }
  },
  {
   "cell_type": "code",
   "execution_count": 15,
   "outputs": [
    {
     "data": {
      "text/plain": "<Figure size 1440x720 with 1 Axes>",
      "image/png": "[encoded data removed]"
     },
     "metadata": {
      "needs_background": "light"
     },
     "output_type": "display_data"
    }
   ],
   "source": [
    "words_of_keywordsDataFrame = pd.DataFrame(words_in_keywords().items(), columns=['words', 'count'])\n",
    "x=words_of_keywordsDataFrame[\"words\"].head(10)\n",
    "y=words_of_keywordsDataFrame[\"count\"].head(10)\n",
    "f = plt.figure()\n",
    "f.set_figwidth(20)\n",
    "f.set_figheight(10)\n",
    "plt.bar(x, y)\n",
    "plt.xlabel('words')\n",
    "plt.ylabel('count')\n",
    "plt.show()"
   ],
   "metadata": {
    "collapsed": false,
    "pycharm": {
     "name": "#%%\n"
    }
   }
  },
  {
   "cell_type": "code",
   "execution_count": null,
   "outputs": [],
   "source": [],
   "metadata": {
    "collapsed": false,
    "pycharm": {
     "name": "#%%\n"
    }
   }
  }
 ],
 "metadata": {
  "kernelspec": {
   "display_name": "Python 3",
   "language": "python",
   "name": "python3"
  },
  "language_info": {
   "codemirror_mode": {
    "name": "ipython",
    "version": 2
   },
   "file_extension": ".py",
   "mimetype": "text/x-python",
   "name": "python",
   "nbconvert_exporter": "python",
   "pygments_lexer": "ipython2",
   "version": "2.7.6"
  }
 },
 "nbformat": 4,
 "nbformat_minor": 0
}