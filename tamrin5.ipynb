{
 "cells": [
  {
   "cell_type": "code",
   "execution_count": 46,
   "metadata": {
    "collapsed": true
   },
   "outputs": [],
   "source": [
    "import pandas as pd\n",
    "from threading import Thread\n",
    "import collections"
   ]
  },
  {
   "cell_type": "code",
   "execution_count": 3,
   "outputs": [],
   "source": [
    "dataFrame = pd.read_csv(\"./tamrin 5.csv\")"
   ],
   "metadata": {
    "collapsed": false,
    "pycharm": {
     "name": "#%%\n"
    }
   }
  },
  {
   "cell_type": "code",
   "execution_count": 10,
   "outputs": [
    {
     "data": {
      "text/plain": "                                            Abstract  \\\n0  Internet of things (IoT) has brought a greater...   \n1                                                NaN   \n2                           United States; Rodríguez   \n3  Green bonds are powerful tools for fighting ag...   \n4  Background: Artificial intelligence-based dise...   \n\n                                     Author Keywords  \n0  Covid-19; ensemble deep learning; framingham f...  \n1                                                NaN  \n2                                                 A.  \n3  Gradient boosting decision tree; Green bonds; ...  \n4  artificial intelligence; COVID-19; disease pre...  ",
      "text/html": "<div>\n<style scoped>\n    .dataframe tbody tr th:only-of-type {\n        vertical-align: middle;\n    }\n\n    .dataframe tbody tr th {\n        vertical-align: top;\n    }\n\n    .dataframe thead th {\n        text-align: right;\n    }\n</style>\n<table border=\"1\" class=\"dataframe\">\n  <thead>\n    <tr style=\"text-align: right;\">\n      <th></th>\n      <th>Abstract</th>\n      <th>Author Keywords</th>\n    </tr>\n  </thead>\n  <tbody>\n    <tr>\n      <th>0</th>\n      <td>Internet of things (IoT) has brought a greater...</td>\n      <td>Covid-19; ensemble deep learning; framingham f...</td>\n    </tr>\n    <tr>\n      <th>1</th>\n      <td>NaN</td>\n      <td>NaN</td>\n    </tr>\n    <tr>\n      <th>2</th>\n      <td>United States; Rodríguez</td>\n      <td>A.</td>\n    </tr>\n    <tr>\n      <th>3</th>\n      <td>Green bonds are powerful tools for fighting ag...</td>\n      <td>Gradient boosting decision tree; Green bonds; ...</td>\n    </tr>\n    <tr>\n      <th>4</th>\n      <td>Background: Artificial intelligence-based dise...</td>\n      <td>artificial intelligence; COVID-19; disease pre...</td>\n    </tr>\n  </tbody>\n</table>\n</div>"
     },
     "execution_count": 10,
     "metadata": {},
     "output_type": "execute_result"
    }
   ],
   "source": [
    "dataFrame.head()"
   ],
   "metadata": {
    "collapsed": false,
    "pycharm": {
     "name": "#%%\n"
    }
   }
  },
  {
   "cell_type": "markdown",
   "source": [],
   "metadata": {
    "collapsed": false,
    "pycharm": {
     "name": "#%% md\n"
    }
   }
  },
  {
   "cell_type": "code",
   "execution_count": 52,
   "outputs": [],
   "source": [
    "def author_keywords():\n",
    "    author_keywords_counts = dict()\n",
    "    for key, part in enumerate(dataFrame[\"Author Keywords\"]):\n",
    "        try:\n",
    "            keywords = part.split(\";\")\n",
    "            for word in keywords:\n",
    "                word = word.lower()\n",
    "                if word[0] == \" \":\n",
    "                    word=word[1: ]\n",
    "                if word in author_keywords_counts:\n",
    "                    author_keywords_counts[word] += 1\n",
    "                else:\n",
    "                    author_keywords_counts[word] = 1\n",
    "        except:\n",
    "            continue\n",
    "    return author_keywords_counts\n",
    "\n"
   ],
   "metadata": {
    "collapsed": false,
    "pycharm": {
     "name": "#%%\n"
    }
   }
  },
  {
   "cell_type": "code",
   "execution_count": 53,
   "outputs": [
    {
     "name": "stdout",
     "output_type": "stream",
     "text": [
      "{'covid-19': 75, 'deep learning': 34, 'machine learning': 29, 'ensemble learning': 21, 'transfer learning': 14, 'artificial intelligence': 11, 'convolutional neural network': 10, 'forecasting': 9, 'ensemble model': 8, 'prediction': 7, 'ensemble': 7, 'sentiment analysis': 6, 'twitter': 4, 'coronavirus': 4, 'arima': 4, 'ensemble deep learning': 3, 'support vector machine': 3, 'neural networks': 3, 'natural language processing': 3, 'social media': 3, 'covid-19 detection': 3, 'lstm': 3, 'pneumonia': 3, 'stacking': 3, 'x-ray images': 3, 'classification': 3, 'sars-cov-2': 3, 'decision support': 3, 'internet of things': 2, 'mortality': 2, 'health emergency': 2, 'roberta': 2, 'covid19': 2, 'convolutional neural networks': 2, 'demand forecasting': 2, 'facebook': 2, 'infodemiology': 2, 'public health': 2, 'healthcare': 2, 'air pollution': 2, 'random forest': 2, 'sustainability': 2, 'anomaly detection': 2, 'time-series': 2, 'diagnostic model': 2, 'naive bayes': 2, 'chest x-ray': 2, 'pandemic': 2, 'xgboost': 2, 'intrusion detection': 2, 'optimization': 2, 'covid-19 pandemic': 2, 'cnn': 2, 'health': 2, 'saudi arabia': 2, 'chest x-ray images': 2, 'convolution neural networks': 2, 'x-ray': 2, 'infection': 2, 'framingham feature extraction': 1, 'a.': 1, 'gradient boosting decision tree': 1, 'green bonds': 1, 'heterogeneous ensemble': 1, 'random forests': 1, 'volatility forecasting': 1, 'disease prediction': 1, 'explainable': 1, 'covid?19': 1, 'bert': 1, 'distilbert': 1, 'emergency response support system (erss)': 1, 'emotion detection': 1, 'ensemble method': 1, 'regression': 1, 'clahe': 1, 'feature scaling': 1, 'guassian naive bayes': 1, 'soft voting': 1, 'class activation mapping': 1, 'decision level fusion': 1, 'feature level fusion': 1, 'multistage learning': 1, 'support vector machines': 1, 'autoregressive': 1, 'biofuels': 1, 'co-integration': 1, 'demand-side management': 1, 'econometric': 1, 'forecast evaluation': 1, 'forecasting methods': 1, 'fuel demand': 1, 'fuzzy-logic model': 1, 'gasoline': 1, 'liquid fuels': 1, 'time series': 1, 'time series analysis': 1, 'health informatics': 1, 'vaccination': 1, 'big covid-19 data': 1, 'decision support system': 1, 'hho': 1, 'change analysis': 1, 'particulate matter': 1, 'self-organizing map': 1, 'accuracy': 1, 'data-aware computational unit': 1, 'latency of cnn': 1, 'performance': 1, 'pre-training': 1, 'ensemble forecast': 1, 'model evaluation': 1, 'data labelling': 1, 'prior knowledge': 1, 'sentiment classification': 1, 'stacked generalization': 1, 'topic models': 1, 'online education': 1, 'smote': 1, 'audio forensics': 1, 'automatic speaker verification': 1, 'cloth face masks': 1, 'face masks': 1, 'filtered n95': 1, 'surgical': 1, 'classification algorithm': 1, 'data mining': 1, 'prevalence and management': 1, 'retrospective analysis': 1, 'waterborne disease': 1, '?-sutte indicator': 1, 'blood tests': 1, 'small data': 1, 'covid-19 vaccination': 1, 'lexicon-based approaches': 1, 'forecasting of influenza-like illnesses': 1, 'monitoring and early warning': 1, 'public opinion analysis': 1, 'china': 1, 'ozone': 1, 'data fusion': 1, 'deep ensemble learning': 1, 'epidemic diseases outbreak': 1, 'models integration': 1, 'ensemble learning algorithm': 1, 'gated recurrent units': 1, 'human activity recognition': 1, 'a': 1, 'computed tomography (ct) images': 1, 'r 445': 1, 'tp 183': 1, 'adaptive activation function-based u-net': 1, 'autoencoder': 1, 'ensemble learning with cnn-based deep features': 1, 'self adaptive- tunicate swarm algorithm': 1, 'education': 1, 'endothelial dysfunction': 1, 'covid-19 lesion segmentation': 1, 'deep-supervised ensemble learning network': 1, 'local and global features': 1, 'under ct imaging': 1, 'apache spark': 1, 'covid-19 diagnosis': 1, 'real-time analytics': 1, 'lung disease': 1, 'multichannel': 1, 'tuberculosis': 1, 'coronavirus disease': 1, 'ensemble machine learning algorithms': 1, 'epidemic prediction': 1, 'future forecasting': 1, 'gradient boosting': 1, 'histogram-oriented gradients': 1, 'local binary patterns': 1, 'computed tomography': 1, 'meta-learning': 1, 'transfer learning models': 1, 'ct images': 1, 'densenet-201': 1, 'iomt': 1, 'mobilenetv2': 1, 'squeezenet': 1, 'sugeno fuzzy integral': 1, 'trainable ensemble': 1, 'ensemble methods': 1, 'spam classification': 1, 'text messages': 1, 'chest computed tomography and x-ray': 1, 'covid-19 disease': 1, 'ensemble classifier': 1, 'correlation feature selection (cfs)': 1, 'decision tree (dt)': 1, 'electronic health records (ehrs)': 1, 'linear model (lr)': 1, 'mdrl': 1, 'multi-layer perceptron (mlp)': 1, 'random forest (rf)': 1, 'coronavirus disease 2019 (covid-19)': 1, 'intensive care unit (icu)': 1, 'length of stay (los)': 1, 'machine learning (ml)': 1, 'predation': 1, 'resource management': 1, 'contextual embedding': 1, 'fake news': 1, 'social networks': 1, 'voting classifier': 1, 'covid-19 severity': 1, 'broad learning system (bls)': 1, 'decision trees': 1, 'ensemble learning.': 1, 'feature extraction': 1, 'learning systems': 1, 'training': 1, 'vehicular ad hoc networks': 1, 'epidemiology covid-19': 1, 'evolutionary algorithms': 1, 'pandemics': 1, 'policy making': 1, 'prediction algorithms': 1, 'predictive models': 1, 'uncertainty': 1, 'work-from-home': 1, 'decision tree ensembles': 1, 'probabilistic': 1, 'c reactive protein': 1, 'corticosteroid': 1, 'lymphocyte percent': 1, 'coronavirus detection': 1, 'weighted average ensemble': 1, 'geospatial artificial intelligence': 1, 'spatiotemporal machine learning': 1, 'code-switched language': 1, 'cyberbullying': 1, 'deep ensemble': 1, 'deep forest': 1, 'resnet101': 1, 'testing': 1, 'ensemble arima': 1, 'forest knowledge': 1, 'ensemble models': 1, 'metaheuristics': 1, 'facial recognition': 1, 'masked face': 1, 'covid-19 crisis': 1, 'dynamic factor model': 1, 'macroeconomic forecasting': 1, 'automated diagnosis': 1, 'class activation maps (cams) visualization': 1, 'covid-19 classification': 1, 'finetuning': 1, 'stacked ensembles': 1, 'dcnn': 1, 'ensemble network': 1, 'hate speech detection': 1, 'deep networks': 1, 'pneumonia detection': 1, 'antiviral drugs': 1, 'covid-19 drug repurposing': 1, 'hybrid method': 1, 'stepwise multiple regression': 1, 'time series prediction': 1, 'choquet integral': 1, 'coalition game': 1, 'information theory': 1, 'lambda fuzzy': 1, 'feature importance analysis': 1, 'multi-objective optimization': 1, 'random forest regression': 1, 'deep learning models': 1, 'matthews correlation coefficients': 1, 'simple averaging': 1, 'weighted averaging': 1, 'gompertz function': 1, 'ai diagnostics tool': 1, 'diagnostic radiography': 1, 'medical diagnosis': 1, 'x-rays': 1, 'critical illness': 1, 'immune-inflammatory parameters': 1, 'online model': 1, 'differential equations': 1, 'generalized logistic growth model': 1, 'gompertz model': 1, 'interval score': 1, 'model ensemble, parameter estimation, uncertainty quantification, phenomenological growth': 1, 'parametric bootstrapping': 1, 'richards model': 1, 'peptide': 1, 'peptide-tcr interaction': 1, 't cell receptor': 1, 'data prediction': 1, 'ensemble machine learning': 1, 'n-gram feature extraction': 1, 'twitter data': 1, 'algorithm hyperparameter': 1, 'chest computed tomography image': 1, 'deep learning ensemble': 1, 'genetic algorithm': 1, 'long short-term memory': 1, 'mobility prediction': 1, 'diagnosis': 1, 'maldi-ms': 1, 'metabolism': 1, 'biological sciences': 1, 'immunology': 1, 'lipidomics': 1, 'blstm': 1, 'grbfnn': 1, 'prediction interval': 1, 'sarima': 1, 'water demand prediction': 1, 'wavelet transform': 1, 'hybrid model': 1, 'nar': 1, 'edl-covid': 1, 'classifier': 1, 'supervised learning': 1, 'deep-learning': 1, 'drug-target interactions': 1, 'drugs': 1, 'proteins': 1, 'bertweet': 1, 'ct-bert': 1, 'informative tweets': 1, 'majority voting': 1, 'nested ensemble': 1, 'computational drug repurposing': 1, 'matrix completion': 1, 'virus-drug association prediction': 1, 'weighted voting ensemble model': 1, 'channel attention network': 1, 'crossentropy': 1, 'label distribution approximation': 1, 'light gradient boosting machine': 1, 'radiography': 1, 'ai': 1, 'app': 1, 'attitude': 1, 'contact tracing': 1, 'exploratory': 1, 'infoveillance': 1, 'perception': 1, 'sentiment': 1, 'suitability': 1, 'united kingdom': 1, 'hosts prediction': 1, 'virus origins': 1, 'chest ct': 1, 'dimension reduction': 1, 'x-ray imaging': 1, 'analysis': 1, 'decomposition and ensemble model': 1, 'model synergy': 1, 'risk prediction': 1, 'covid-19 cutaneous manifestations': 1, 'covid-19 skin lesions': 1, 'computer-aided diagnosis': 1, 'pneumonia disease': 1, 'pneumonia multiclass classification': 1, 'class imbalance': 1, 'computer-assisted radiographic image interpretation': 1, 'neural network ensemble': 1, 'biomedical databases': 1, 'biomedical knowledge': 1, 'internet': 1, 'automated machine learning': 1, 'biomarker': 1, 'decision support tool': 1, 'dimensionality reduction': 1, 'partial dependence plot': 1, 'ranking': 1, 'shapley additive explanation': 1, 'covid-19 epidemic': 1, 'ensemble learning classifiers': 1, 'individual-level model': 1, 'sars-cov-2 transmission': 1, 'spatiotemporal analysis': 1, 'auto regressive integrated moving average': 1, 'exponential smoothing': 1, 'multi-layer perceptron': 1, 'neural network': 1, 'hrct': 1, 'intel® movidius™': 1, 'neural compute stick': 1, 'pathology data': 1, 'raspberry pi': 1, 'stage classification covid-19': 1, 'bagging ridge': 1, 'bi-lstm': 1, 'exchange rate forecasting': 1, 'deep neural networks': 1, 'pneumonia detection using x-ray images': 1, 'interstitial pneumonia': 1, 'radiomics': 1, 'texture analysis': 1, 'thorax': 1, 'asset management': 1, 'pandemic preparedness': 1, 'predictive maintenance': 1, 'small and medium enterprises': 1, 'bootstrapping validation': 1, 'fatality': 1, 'k-fold cross-validation': 1, 'risk analysis': 1, 'ann': 1, 'ensemble learning method': 1, 'icu admission': 1, 'chest x-rays': 1, 'explainableai': 1, 'gans': 1, 'accountable artificial intelligence': 1, 'automated five time sit to stand test': 1, 'automated timed up and go test': 1, 'home-based rehabilitation': 1, 'hybrid ensemble learning': 1, 'patient-centric individualised rehabilitation': 1, 'responsible artificial intelligence': 1, 'transparent artificial intelligence': 1, 'lung ct images': 1, 'blood samples': 1, 'mortality prediction': 1, 'bayesian': 1, 'computation': 1, 'diagnostic': 1, 'imaging': 1, 'informatics': 1, 'model': 1, 'probability': 1, 'risk': 1, 'symptom': 1, 'classifier ensemble': 1, 'protein–protein interaction': 1, 'supervised classification': 1, 'gray level cooccurrence matrix (glcm)': 1, \"laws' masks\": 1, \"li s'method\": 1, 'particle swarm intelligence': 1, 'support vector machine (svm)': 1, 'weighted voting': 1, 'lockdown effect': 1, 'mathematical model': 1, 'outbreak containment policy': 1, 'artificial neural network': 1, 'decision-making': 1, 'routine blood tests': 1, 'misinformation': 1, 'iterative pruning': 1}\n"
     ]
    }
   ],
   "source": [
    "sorted_words = sorted(author_keywords().items(), key=lambda kv: kv[1], reverse=True)\n",
    "print(dict(sorted_words))"
   ],
   "metadata": {
    "collapsed": false,
    "pycharm": {
     "name": "#%%\n"
    }
   }
  },
  {
   "cell_type": "code",
   "source": [
    "keywordsDataFrame=pd.DataFrame(dict(sorted_words).items(), columns=['keywords', 'count'])\n",
    "keywordsDataFrame.head()"
   ],
   "metadata": {
    "collapsed": false,
    "pycharm": {
     "name": "#%%\n"
    }
   },
   "execution_count": 54,
   "outputs": [
    {
     "data": {
      "text/plain": "            keywords  count\n0           covid-19     75\n1      deep learning     34\n2   machine learning     29\n3  ensemble learning     21\n4  transfer learning     14",
      "text/html": "<div>\n<style scoped>\n    .dataframe tbody tr th:only-of-type {\n        vertical-align: middle;\n    }\n\n    .dataframe tbody tr th {\n        vertical-align: top;\n    }\n\n    .dataframe thead th {\n        text-align: right;\n    }\n</style>\n<table border=\"1\" class=\"dataframe\">\n  <thead>\n    <tr style=\"text-align: right;\">\n      <th></th>\n      <th>keywords</th>\n      <th>count</th>\n    </tr>\n  </thead>\n  <tbody>\n    <tr>\n      <th>0</th>\n      <td>covid-19</td>\n      <td>75</td>\n    </tr>\n    <tr>\n      <th>1</th>\n      <td>deep learning</td>\n      <td>34</td>\n    </tr>\n    <tr>\n      <th>2</th>\n      <td>machine learning</td>\n      <td>29</td>\n    </tr>\n    <tr>\n      <th>3</th>\n      <td>ensemble learning</td>\n      <td>21</td>\n    </tr>\n    <tr>\n      <th>4</th>\n      <td>transfer learning</td>\n      <td>14</td>\n    </tr>\n  </tbody>\n</table>\n</div>"
     },
     "execution_count": 54,
     "metadata": {},
     "output_type": "execute_result"
    }
   ]
  },
  {
   "cell_type": "code",
   "execution_count": null,
   "outputs": [],
   "source": [
    "keywordsDataFrame"
   ],
   "metadata": {
    "collapsed": false,
    "pycharm": {
     "name": "#%%\n"
    }
   }
  }
 ],
 "metadata": {
  "kernelspec": {
   "display_name": "Python 3",
   "language": "python",
   "name": "python3"
  },
  "language_info": {
   "codemirror_mode": {
    "name": "ipython",
    "version": 2
   },
   "file_extension": ".py",
   "mimetype": "text/x-python",
   "name": "python",
   "nbconvert_exporter": "python",
   "pygments_lexer": "ipython2",
   "version": "2.7.6"
  }
 },
 "nbformat": 4,
 "nbformat_minor": 0
}